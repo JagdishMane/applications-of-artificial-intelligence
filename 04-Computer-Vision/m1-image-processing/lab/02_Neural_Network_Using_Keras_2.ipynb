{
  "nbformat": 4,
  "nbformat_minor": 0,
  "metadata": {
    "colab": {
      "provenance": [],
      "authorship_tag": "ABX9TyMR2MRx5Rkkia6IuvGwoEL0",
      "include_colab_link": true
    },
    "kernelspec": {
      "name": "python3",
      "display_name": "Python 3"
    },
    "language_info": {
      "name": "python"
    }
  },
  "cells": [
    {
      "cell_type": "markdown",
      "metadata": {
        "id": "view-in-github",
        "colab_type": "text"
      },
      "source": [
        "<a href=\"https://colab.research.google.com/github/JagdishMane/applications-of-artificial-intelligence/blob/master/04-Computer-Vision/m1-image-processing/lab/02_Neural_Network_Using_Keras_2.ipynb\" target=\"_parent\"><img src=\"https://colab.research.google.com/assets/colab-badge.svg\" alt=\"Open In Colab\"/></a>"
      ]
    },
    {
      "cell_type": "markdown",
      "source": [
        "#Image_Vision"
      ],
      "metadata": {
        "id": "Tuu1uNk_bUfg"
      }
    },
    {
      "cell_type": "markdown",
      "source": [
        "- Pretrained Model: MobileNet Model is a model with 1-4 Million parameter that was trained on ImageNet(ILSVRC) dataset.\n"
      ],
      "metadata": {
        "id": "7aNYpiCfbhbv"
      }
    },
    {
      "cell_type": "code",
      "execution_count": null,
      "metadata": {
        "id": "Cz-7twO9bDpj"
      },
      "outputs": [],
      "source": [
        "import ternsorflow_hub as hub\n",
        "huburl = \"https://tfhub.dev/google/imagenet/mobilenet_v2_100_224_feature_vector/4\"\n",
        "hub.kerasLayer(handle=huburl, input_shape=(IMG_H, IMG_W, IMG_CH), trainable=False, name='mobilenet_embedding')"
      ]
    },
    {
      "cell_type": "markdown",
      "source": [
        "Transfer Learning\n"
      ],
      "metadata": {
        "id": "OT8Xmnx7cfdG"
      }
    },
    {
      "cell_type": "code",
      "source": [
        "layers = [ hub.kerasLayer(.,.,.,.,.,.),\n",
        "           tf.keras.layers.Dense(unit=16,activation='relu')\n",
        "          ]"
      ],
      "metadata": {
        "id": "VcORY4htcejn"
      },
      "execution_count": null,
      "outputs": []
    },
    {
      "cell_type": "code",
      "source": [],
      "metadata": {
        "id": "NMNAkTHXcWxX"
      },
      "execution_count": null,
      "outputs": []
    },
    {
      "cell_type": "markdown",
      "source": [],
      "metadata": {
        "id": "t-cbfs4lbTs4"
      }
    }
  ]
}